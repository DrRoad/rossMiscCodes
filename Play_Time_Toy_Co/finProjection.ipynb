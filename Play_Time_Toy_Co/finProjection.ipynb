{
 "cells": [
  {
   "cell_type": "code",
   "execution_count": 1,
   "metadata": {
    "collapsed": false
   },
   "outputs": [
    {
     "name": "stderr",
     "output_type": "stream",
     "text": [
      "Vendor:  Continuum Analytics, Inc.\n",
      "Package: mkl\n",
      "Message: trial mode expires in 29 days\n"
     ]
    }
   ],
   "source": [
    "%matplotlib inline\n",
    "import matplotlib.pyplot as plt\n",
    "import numpy as np"
   ]
  },
  {
   "cell_type": "code",
   "execution_count": 2,
   "metadata": {
    "collapsed": false
   },
   "outputs": [],
   "source": [
    "def computeFS(fs, production, r_tax, r_debt, w_pay, t0_i, n_collec_per):\n",
    "    '''\n",
    "    Calculates the balance sheet and income statement, in place, based\n",
    "    on the balance sheet at time \"Zero\" indicated by t0_i, sales \n",
    "    projections, production weights, tax rate, debt cost, etc, as\n",
    "    shown below.\n",
    "    \n",
    "    fs -->  A (16,n) array consisting of past, present, and expected\n",
    "            financial performance. Forecasted net sales and n_collec_per\n",
    "            worth of previous sales numbers must be pre-populated in fs.\n",
    "            In addition, COGS, OpEx, Net PPE, and LT Debt, CP must be\n",
    "            included within the forecast window. Lastly, the complete\n",
    "            balance sheet from one period prior to t0 must be included.\n",
    "            \n",
    "            Below is the row index dictionary, indicies 0-5 correspond\n",
    "            to the income statement and 6-16 are the balance sheet:\n",
    "            \n",
    "            00: Net Sales\n",
    "            01: Cost of Goods Sold\n",
    "            02: Operating Expenses\n",
    "            03: Earnings Before Interest and Taxes\n",
    "            04: Taxes\n",
    "            05: Net Profit\n",
    "            06: Cash\n",
    "            07: Accounts Receivable\n",
    "            08: Inventory\n",
    "            09: Net Plant, Property, and Equipment\n",
    "            10: Accounts Payable\n",
    "            11: Notes Payable\n",
    "            12: Accured Taxes\n",
    "            13: Long-term Debt, Current Portion\n",
    "            14: Long-term Debt\n",
    "            15: Shareholder's Equity\n",
    "            \n",
    "    production -->  The production schedule for the firm in terms\n",
    "                    of the amount of COGS made per month\n",
    "                    \n",
    "    r_tax -->  Corporate tax rate of the firm\n",
    "    \n",
    "    r_debt --> Cost of debt for the firm\n",
    "    \n",
    "    w_pay -->  Monthly balance of accounts payable as a fraction of\n",
    "               net sales\n",
    "               \n",
    "    t0_i -->   Index within fs at which the financial analysis starts\n",
    "    \n",
    "    n_collec_per --> Average number of periods that it takes to collect\n",
    "                     sales since they were added to accounts receivable\n",
    "    \n",
    "    '''\n",
    "    for i in range(t0_i, fs.shape[1]):\n",
    "        #Calculate IS values        \n",
    "        #Calculate EBIT\n",
    "        fs[3,i] = fs[0,i] - fs[1,i] - fs[2,i]\n",
    "        \n",
    "        #Calculate taxes\n",
    "        fs[4,i] = r_tax*(fs[3,i] - fs[11,i-1]*r_debt)\n",
    "        \n",
    "        #Calculate net profit\n",
    "        fs[5,i] = fs[3,i] - fs[11,i-1]*r_debt - fs[4,i]\n",
    "        \n",
    "        #Calculate BS values\n",
    "        #Calculate new value of accounts receivables\n",
    "        fs[7,i] = fs[7,i-1] - fs[0,i-n_collec_per] + fs[0,i]\n",
    "        \n",
    "        #Calculate new inventory level\n",
    "        fs[8,i] = fs[8,i-1] + production[i-t0_i] - fs[1,i]\n",
    "        \n",
    "        #Calculate PPE\n",
    "        fs[9,i] = fs[9,i-1]\n",
    "        \n",
    "        #Calculate new accounts payable\n",
    "        fs[10,i] = w_pay*fs[0,i]\n",
    "        \n",
    "        #Calculate new accrued taxes\n",
    "        fs[12,i] = fs[12,i-1] + fs[4,i]\n",
    "        \n",
    "        #Pay taxes if it is March\n",
    "        if (i-t0_i+1) % 12 == 3:\n",
    "            #Pay accured taxes as of Dec year end\n",
    "            fs[12,i] -= fs[12,i-3]\n",
    "            \n",
    "        #Pay esitmate of current years taxes if April, June, Sept, or Dec\n",
    "        if (i-t0_i+1) % 12 in [4,9]:\n",
    "            fs[12,i] -= 31\n",
    "        elif (i-t0_i+1) % 12 in [6,12]:\n",
    "            fs[12,i] -= 32\n",
    "        \n",
    "        #Calculate current portion of long-term debt\n",
    "        fs[13,i] = fs[13,i-1]\n",
    "        \n",
    "        #Calculate long-term debt, $25 payments in June and Dec\n",
    "        fs[14,i] = fs[14,i-1]\n",
    "        if (i-t0_i+1 == 6) or (i-t0_i+1 == 12):\n",
    "            fs[14,i] -= 25\n",
    "        \n",
    "        #Calculate share holder's equity\n",
    "        fs[15,i] = fs[15,i-1] + fs[5,i]\n",
    "        \n",
    "        #Calculate cash\n",
    "        fs[6,i] = fs[6,i-1] - \\\n",
    "                  (fs[7,i] - fs[7,i-1]) - \\\n",
    "                  (fs[8,i] - fs[8,i-1]) - \\\n",
    "                  (fs[9,i] - fs[9,i-1]) + \\\n",
    "                  (fs[10,i] - fs[10,i-1]) + \\\n",
    "                  (fs[12,i] - fs[12,i-1]) + \\\n",
    "                  (fs[15,i] - fs[15,i-1])\n",
    "                \n",
    "        #Calculate notes payable payment\n",
    "        if fs[6,i] > 175.0:\n",
    "            fs[11,i] = max( 0, fs[11,i-1] - (fs[6,i] - 175) )\n",
    "            fs[6,i] += fs[11,i] - fs[11,i-1]\n",
    "        else:\n",
    "            fs[6,i] = 175\n",
    "            fs[11,i] = (fs[6,i] + fs[7,i] + fs[8,i] + fs[9,1]) - \\\n",
    "                       (fs[10,i] + fs[12,i] + fs[13,i] + fs[14,i] + fs[15,i])\n",
    "        "
   ]
  },
  {
   "cell_type": "code",
   "execution_count": 3,
   "metadata": {
    "collapsed": false
   },
   "outputs": [],
   "source": [
    "dec1990BS = [175.,2628.,530.,1070.,255.,680.,80.,50.,400.,2938.]\n",
    "prevSales = [1778., 850.]\n",
    "projectedSales = [108.,126.,145.,125.,125.,125.,145.,1458.,1655.,1925.,2057.,1006.]\n",
    "cogsPercent = 0.6516\n",
    "totalProduction = cogsPercent*np.sum(projectedSales)\n",
    "operatingExpenses = 196\n",
    "netPPE = 1070\n",
    "currentLTD = 50\n",
    "r_debt = 0.11/12\n",
    "r_tax = 0.34\n",
    "r_payables = 0.3\n",
    "n_per_collect_AR = 2\n",
    "t0 = 2\n",
    "\n",
    "finStatements = np.zeros((16,14))\n",
    "finStatements[0] = prevSales + projectedSales\n",
    "finStatements[6:,1] = dec1990BS\n",
    "finStatements[1] = cogsPercent*finStatements[0]\n",
    "finStatements[2] = operatingExpenses\n",
    "finStatements[9] = netPPE\n",
    "finStatements[13] = currentLTD"
   ]
  },
  {
   "cell_type": "code",
   "execution_count": 4,
   "metadata": {
    "collapsed": false
   },
   "outputs": [],
   "source": [
    "numTrials = 10000\n",
    "\n",
    "#Save net profit, max notes payable, and production weights\n",
    "results = np.empty((14,numTrials))\n",
    "results[2:,:] = np.random.rand(12,numTrials)\n",
    "results[2:,:] /= np.sum(results[2:,:], 0)\n",
    "\n",
    "#Create array of financial statements\n",
    "trials = np.empty((16,14,numTrials))\n",
    "\n",
    "for i in range(numTrials):\n",
    "    trials[:,:,i] = finStatements\n",
    "    computeFS(trials[:,:,i], results[2:,i]*totalProduction, r_tax, r_debt, r_payables, t0, n_per_collect_AR)\n",
    "    results[0,i] = trials[5,t0:,i].sum()\n",
    "    results[1,i] = trials[11,t0:,i].max()"
   ]
  },
  {
   "cell_type": "code",
   "execution_count": 5,
   "metadata": {
    "collapsed": false
   },
   "outputs": [
    {
     "data": {
      "text/plain": [
       "<matplotlib.collections.PathCollection at 0x7f21ffa815d0>"
      ]
     },
     "execution_count": 5,
     "metadata": {},
     "output_type": "execute_result"
    },
    {
     "data": {
      "image/png": "[encoded data removed]",
      "text/plain": [
       "<matplotlib.figure.Figure at 0x7f21ffa81710>"
      ]
     },
     "metadata": {},
     "output_type": "display_data"
    }
   ],
   "source": [
    "plt.scatter(results[1], results[0])"
   ]
  }
 ],
 "metadata": {
  "kernelspec": {
   "display_name": "Python 2",
   "language": "python",
   "name": "python2"
  },
  "language_info": {
   "codemirror_mode": {
    "name": "ipython",
    "version": 2
   },
   "file_extension": ".py",
   "mimetype": "text/x-python",
   "name": "python",
   "nbconvert_exporter": "python",
   "pygments_lexer": "ipython2",
   "version": "2.7.11"
  }
 },
 "nbformat": 4,
 "nbformat_minor": 0
}
