{
 "cells": [
  {
   "cell_type": "code",
   "execution_count": 1,
   "metadata": {
    "collapsed": true
   },
   "outputs": [],
   "source": [
    "import matplotlib.pyplot as plt\n",
    "import numpy as np\n",
    "import pandas as pd\n",
    "import itertools\n",
    "\n",
    "%matplotlib inline"
   ]
  },
  {
   "cell_type": "markdown",
   "metadata": {},
   "source": [
    "### Load survey data"
   ]
  },
  {
   "cell_type": "code",
   "execution_count": 2,
   "metadata": {
    "collapsed": true
   },
   "outputs": [],
   "source": [
    "responses = pd.read_csv('DIAG Project Preference Survey (Responses) - Form Responses 1.csv')\n",
    "responses['Timestamp'] = pd.to_datetime(responses['Timestamp'])"
   ]
  },
  {
   "cell_type": "markdown",
   "metadata": {},
   "source": [
    "### Drop duplicates, keeping only the most recent submission"
   ]
  },
  {
   "cell_type": "code",
   "execution_count": 3,
   "metadata": {
    "collapsed": false
   },
   "outputs": [],
   "source": [
    "responses.sort_values('Timestamp', inplace=True)\n",
    "responses.drop_duplicates(subset=['Username'], keep='last', inplace=True)\n",
    "responses.index = range(len(responses))"
   ]
  },
  {
   "cell_type": "markdown",
   "metadata": {},
   "source": [
    "### Load data about individuals and merge with form submission"
   ]
  },
  {
   "cell_type": "code",
   "execution_count": 4,
   "metadata": {
    "collapsed": false
   },
   "outputs": [],
   "source": [
    "peopleTypes = pd.read_csv('diagPeopleTypes.csv')\n",
    "peopleTypes = peopleTypes[['Username', 'Technical Y=1, N=0', 'MBA 1=0, 2=1']]"
   ]
  },
  {
   "cell_type": "code",
   "execution_count": 5,
   "metadata": {
    "collapsed": false
   },
   "outputs": [],
   "source": [
    "responses = pd.merge(responses, peopleTypes, on='Username')"
   ]
  },
  {
   "cell_type": "markdown",
   "metadata": {},
   "source": [
    "### Generate Teams"
   ]
  },
  {
   "cell_type": "markdown",
   "metadata": {},
   "source": [
    "All projects get six team members except UMMS which gets 5. We want to have a minimum of 2 \"Technical\" people per team and one MBA2"
   ]
  },
  {
   "cell_type": "code",
   "execution_count": 6,
   "metadata": {
    "collapsed": false
   },
   "outputs": [],
   "source": [
    "projects = ['Rate your interest in UMMS', \n",
    "            'Rate your interest in Amcor',\n",
    "            'Rate your interest in Gallagher Basset Waypoint:',\n",
    "            'Rate your interest in Ford',\n",
    "            'Rate your interest in Gallagher Basset WC']\n",
    "\n",
    "teams = []\n",
    "teams.extend(5*[0] + 6*[1] + 6*[2] + 6*[3] + 6*[4])\n",
    "\n",
    "#Weights come from survey responses\n",
    "weights = np.empty((responses.shape[0], len(projects)))\n",
    "for k in range(len(projects)):\n",
    "    weights[:,k] = responses[projects[k]].values\n",
    "\n",
    "#If someone didn't submit a response for a project, set it to zero.\n",
    "#Alternatively we could assume they are agnostic and set it to the mean\n",
    "weights = np.nan_to_num(weights)\n",
    "\n",
    "#Tech and year are just binary weights\n",
    "tech = np.array(responses['Technical Y=1, N=0'].values)\n",
    "year = np.array(responses['MBA 1=0, 2=1'].values)"
   ]
  },
  {
   "cell_type": "markdown",
   "metadata": {},
   "source": [
    "#### Generate a bunch of cases randomly"
   ]
  },
  {
   "cell_type": "markdown",
   "metadata": {},
   "source": [
    "Alternatively, we could generate all know solutions but I am lazy. 1e7 in total should do the trick"
   ]
  },
  {
   "cell_type": "code",
   "execution_count": 11,
   "metadata": {
    "collapsed": false
   },
   "outputs": [
    {
     "name": "stdout",
     "output_type": "stream",
     "text": [
      "Done\n"
     ]
    }
   ],
   "source": [
    "numMembers = len(responses)\n",
    "numCases = 10000000\n",
    "cases = np.zeros((len(projects), len(responses), numCases))\n",
    "results = np.zeros((numCases, 40))\n",
    "\n",
    "for i in range(numCases):\n",
    "    members = range(len(responses))\n",
    "    np.random.shuffle(members)\n",
    "    \n",
    "    for j in range(numMembers):\n",
    "        cases[teams[j],members[j], i] = 1\n",
    "\n",
    "    for j in range(len(projects)):\n",
    "        results[i,:numMembers] += cases[j,:,i]*weights[:,j]\n",
    "        results[i,numMembers+1+j] = np.dot(cases[j,:,i], tech)\n",
    "        results[i,numMembers+6+j] = np.dot(cases[j,:,i], year)\n",
    "        \n",
    "    results[i,numMembers] = results[i,:numMembers].sum()\n",
    "        \n",
    "print 'Done'"
   ]
  },
  {
   "cell_type": "markdown",
   "metadata": {},
   "source": [
    "Convert results into a dataframe and create summary of number of \"Technical\" members and MBA2's per team"
   ]
  },
  {
   "cell_type": "code",
   "execution_count": 12,
   "metadata": {
    "collapsed": false
   },
   "outputs": [],
   "source": [
    "colNames = []\n",
    "for i in range(numMembers):\n",
    "    colNames.append(responses.loc[i,'Username'])\n",
    "\n",
    "colNames.append('Satisfaction')\n",
    "\n",
    "for var in ['Tech', 'Year']:\n",
    "    for i in range(len(projects)):\n",
    "        colNames.append('Team_%d_' % i + var)\n",
    "\n",
    "resultsDF = pd.DataFrame(results, columns=colNames)\n",
    "resultsDF['Min Ind Satisfaction'] = resultsDF[resultsDF.columns[:numMembers]].min(axis=1)\n",
    "resultsDF['Tech Summary'] = resultsDF[colNames[1:len(projects)+1]].min(axis=1)\n",
    "resultsDF['Year Summary'] = resultsDF[colNames[len(projects)+1:]].min(axis=1)"
   ]
  },
  {
   "cell_type": "markdown",
   "metadata": {},
   "source": [
    "Pick out valid solutions"
   ]
  },
  {
   "cell_type": "code",
   "execution_count": 20,
   "metadata": {
    "collapsed": false
   },
   "outputs": [
    {
     "name": "stdout",
     "output_type": "stream",
     "text": [
      "Found 39 valid solutions\n"
     ]
    }
   ],
   "source": [
    "validResults = resultsDF.loc[(resultsDF['Min Ind Satisfaction'] > 1) & (resultsDF['Tech Summary'] >= 2) & (resultsDF['Year Summary'] >= 1)]\n",
    "validResults = validResults.sort_values(by='Satisfaction', ascending=False)\n",
    "print \"Found %d valid solutions\" % len(validResults)"
   ]
  },
  {
   "cell_type": "code",
   "execution_count": 15,
   "metadata": {
    "collapsed": false
   },
   "outputs": [
    {
     "data": {
      "text/plain": [
       "3274316    107.0\n",
       "3984564    106.0\n",
       "1063210    106.0\n",
       "1480593    105.0\n",
       "6175376    104.0\n",
       "Name: Satisfaction, dtype: float64"
      ]
     },
     "execution_count": 15,
     "metadata": {},
     "output_type": "execute_result"
    }
   ],
   "source": [
    "validResults['Satisfaction'].head()"
   ]
  },
  {
   "cell_type": "markdown",
   "metadata": {},
   "source": [
    "Arbitrarily take the top of the list as the solution"
   ]
  },
  {
   "cell_type": "code",
   "execution_count": 32,
   "metadata": {
    "collapsed": false
   },
   "outputs": [],
   "source": [
    "winner = cases[:,:,validResults.index[0]]\n",
    "selectedDF = {}\n",
    "selectedTeams = {}\n",
    "for team in range(len(projects)):\n",
    "    selectedDF[projects[team]] = []\n",
    "    selectedTeams[projects[team]] = []\n",
    "    for i in range(len(responses)):\n",
    "        if winner[team,i] > 0:\n",
    "            selectedDF[projects[team]].append(responses.loc[i, 'Username'])\n",
    "            selectedTeams[projects[team]].append([responses.loc[i, 'Username'], weights[i,team]])\n",
    "            \n",
    "selectedDF = pd.DataFrame.from_dict(selectedDF, orient='index')\n",
    "selectedDF.to_csv('selectedTeams.csv')"
   ]
  }
 ],
 "metadata": {
  "kernelspec": {
   "display_name": "Python 2",
   "language": "python",
   "name": "python2"
  },
  "language_info": {
   "codemirror_mode": {
    "name": "ipython",
    "version": 2
   },
   "file_extension": ".py",
   "mimetype": "text/x-python",
   "name": "python",
   "nbconvert_exporter": "python",
   "pygments_lexer": "ipython2",
   "version": "2.7.12"
  }
 },
 "nbformat": 4,
 "nbformat_minor": 1
}
